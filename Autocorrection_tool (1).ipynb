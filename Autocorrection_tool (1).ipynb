{
 "cells": [
  {
   "cell_type": "markdown",
   "metadata": {
    "id": "V-3T1dlUCkNv"
   },
   "source": [
    "## Bharat Intern"
   ]
  },
  {
   "cell_type": "markdown",
   "metadata": {
    "id": "um0WIPCICvmW"
   },
   "source": [
    "## Artificial Intelligence Intenship"
   ]
  },
  {
   "cell_type": "markdown",
   "metadata": {
    "id": "cJEoc7avC6b-"
   },
   "source": [
    "Task-2 : Auto correct tool"
   ]
  },
  {
   "cell_type": "markdown",
   "metadata": {
    "id": "ooQN3MvtDDnf"
   },
   "source": [
    "Name:P.shivani"
   ]
  },
  {
   "cell_type": "code",
   "execution_count": 1,
   "metadata": {
    "colab": {
     "base_uri": "https://localhost:8080/"
    },
    "id": "doyaPT1zDQ0k",
    "outputId": "14385f08-065b-4bff-d127-9ad386052ea5"
   },
   "outputs": [
    {
     "name": "stdout",
     "output_type": "stream",
     "text": [
      "Collecting pyspellchecker\n",
      "  Downloading pyspellchecker-0.7.2-py3-none-any.whl (3.4 MB)\n",
      "Installing collected packages: pyspellchecker\n",
      "Successfully installed pyspellchecker-0.7.2\n"
     ]
    }
   ],
   "source": [
    "!pip install pyspellchecker"
   ]
  },
  {
   "cell_type": "code",
   "execution_count": 2,
   "metadata": {
    "colab": {
     "base_uri": "https://localhost:8080/"
    },
    "id": "tCZV4AtFLNcv",
    "outputId": "858a4ea1-7a95-40de-ea01-042555afcf9a"
   },
   "outputs": [
    {
     "name": "stdout",
     "output_type": "stream",
     "text": [
      "Processing c:\\users\\shivani\\appdata\\local\\pip\\cache\\wheels\\ec\\ce\\8f\\bccc2d04f3a25a5a1dd19165b2855ad3203975f25edd5838d6\\pattern-3.6-py3-none-any.whl\n",
      "Requirement already satisfied: beautifulsoup4 in c:\\users\\shivani\\anaconda3\\lib\\site-packages (from pattern) (4.9.3)\n",
      "Collecting feedparser\n",
      "  Using cached feedparser-6.0.10-py3-none-any.whl (81 kB)\n",
      "Collecting pdfminer.six\n",
      "  Using cached pdfminer.six-20221105-py3-none-any.whl (5.6 MB)\n",
      "Requirement already satisfied: scipy in c:\\users\\shivani\\anaconda3\\lib\\site-packages (from pattern) (1.5.2)\n",
      "Requirement already satisfied: numpy in c:\\users\\shivani\\anaconda3\\lib\\site-packages (from pattern) (1.19.2)\n",
      "Requirement already satisfied: lxml in c:\\users\\shivani\\anaconda3\\lib\\site-packages (from pattern) (4.6.1)\n",
      "Requirement already satisfied: nltk in c:\\users\\shivani\\anaconda3\\lib\\site-packages (from pattern) (3.5)\n",
      "Requirement already satisfied: future in c:\\users\\shivani\\anaconda3\\lib\\site-packages (from pattern) (0.18.2)\n",
      "Processing c:\\users\\shivani\\appdata\\local\\pip\\cache\\wheels\\32\\b8\\b2\\c4c2b95765e615fe139b0b17b5ea7c0e1b6519b0a9ec8fb34d\\python_docx-0.8.11-py3-none-any.whl\n",
      "Collecting cherrypy\n",
      "  Using cached CherryPy-18.8.0-py2.py3-none-any.whl (348 kB)\n",
      "Collecting mysqlclient\n",
      "  Using cached mysqlclient-2.1.1.tar.gz (88 kB)\n",
      "Requirement already satisfied: backports.csv in c:\\users\\shivani\\anaconda3\\lib\\site-packages (from pattern) (1.0.7)\n",
      "Requirement already satisfied: requests in c:\\users\\shivani\\anaconda3\\lib\\site-packages (from pattern) (2.24.0)\n",
      "Requirement already satisfied: soupsieve>1.2; python_version >= \"3.0\" in c:\\users\\shivani\\anaconda3\\lib\\site-packages (from beautifulsoup4->pattern) (2.0.1)\n",
      "Processing c:\\users\\shivani\\appdata\\local\\pip\\cache\\wheels\\83\\63\\2f\\117884c3b19d46b64d3d61690333aa80c88dc14050e269c546\\sgmllib3k-1.0.0-py3-none-any.whl\n",
      "Collecting charset-normalizer>=2.0.0\n",
      "  Using cached charset_normalizer-3.1.0-cp38-cp38-win32.whl (89 kB)\n",
      "Collecting cryptography>=36.0.0\n",
      "  Using cached cryptography-40.0.2-cp36-abi3-win32.whl (2.2 MB)\n",
      "Requirement already satisfied: joblib in c:\\users\\shivani\\anaconda3\\lib\\site-packages (from nltk->pattern) (0.17.0)\n",
      "Requirement already satisfied: click in c:\\users\\shivani\\anaconda3\\lib\\site-packages (from nltk->pattern) (7.1.2)\n",
      "Requirement already satisfied: tqdm in c:\\users\\shivani\\anaconda3\\lib\\site-packages (from nltk->pattern) (4.50.2)\n",
      "Requirement already satisfied: regex in c:\\users\\shivani\\anaconda3\\lib\\site-packages (from nltk->pattern) (2020.10.15)\n",
      "Requirement already satisfied: pywin32>=227; sys_platform == \"win32\" and implementation_name == \"cpython\" and python_version < \"3.10\" in c:\\users\\shivani\\anaconda3\\lib\\site-packages (from cherrypy->pattern) (227)\n",
      "Collecting jaraco.collections\n",
      "  Using cached jaraco.collections-4.1.0-py3-none-any.whl (11 kB)\n",
      "Requirement already satisfied: more-itertools in c:\\users\\shivani\\anaconda3\\lib\\site-packages (from cherrypy->pattern) (8.6.0)\n",
      "Collecting portend>=2.1.1\n",
      "  Using cached portend-3.1.0-py3-none-any.whl (5.3 kB)\n",
      "Collecting zc.lockfile\n",
      "  Using cached zc.lockfile-3.0.post1-py3-none-any.whl (9.8 kB)\n",
      "Collecting cheroot>=8.2.1\n",
      "  Using cached cheroot-10.0.0-py3-none-any.whl (101 kB)\n",
      "Requirement already satisfied: idna<3,>=2.5 in c:\\users\\shivani\\anaconda3\\lib\\site-packages (from requests->pattern) (2.10)\n",
      "Requirement already satisfied: urllib3!=1.25.0,!=1.25.1,<1.26,>=1.21.1 in c:\\users\\shivani\\anaconda3\\lib\\site-packages (from requests->pattern) (1.25.11)\n",
      "Requirement already satisfied: chardet<4,>=3.0.2 in c:\\users\\shivani\\anaconda3\\lib\\site-packages (from requests->pattern) (3.0.4)\n",
      "Requirement already satisfied: certifi>=2017.4.17 in c:\\users\\shivani\\anaconda3\\lib\\site-packages (from requests->pattern) (2020.6.20)\n",
      "Requirement already satisfied: cffi>=1.12 in c:\\users\\shivani\\anaconda3\\lib\\site-packages (from cryptography>=36.0.0->pdfminer.six->pattern) (1.14.3)\n",
      "Collecting jaraco.text\n",
      "  Using cached jaraco.text-3.11.1-py3-none-any.whl (11 kB)\n",
      "Collecting tempora>=1.8\n",
      "  Using cached tempora-5.2.2-py3-none-any.whl (13 kB)\n",
      "Requirement already satisfied: setuptools in c:\\users\\shivani\\anaconda3\\lib\\site-packages (from zc.lockfile->cherrypy->pattern) (50.3.1.post20201107)\n",
      "Collecting jaraco.functools\n",
      "  Using cached jaraco.functools-3.6.0-py3-none-any.whl (7.9 kB)\n",
      "Requirement already satisfied: pycparser in c:\\users\\shivani\\anaconda3\\lib\\site-packages (from cffi>=1.12->cryptography>=36.0.0->pdfminer.six->pattern) (2.20)\n",
      "Collecting importlib-resources; python_version < \"3.9\"\n",
      "  Using cached importlib_resources-5.12.0-py3-none-any.whl (36 kB)\n",
      "Collecting jaraco.context>=4.1\n",
      "  Using cached jaraco.context-4.3.0-py3-none-any.whl (5.3 kB)\n",
      "Collecting autocommand\n",
      "  Using cached autocommand-2.2.2-py3-none-any.whl (19 kB)\n",
      "Collecting inflect\n",
      "  Using cached inflect-6.0.4-py3-none-any.whl (34 kB)\n",
      "Requirement already satisfied: pytz in c:\\users\\shivani\\anaconda3\\lib\\site-packages (from tempora>=1.8->portend>=2.1.1->cherrypy->pattern) (2020.1)\n",
      "Requirement already satisfied: zipp>=3.1.0; python_version < \"3.10\" in c:\\users\\shivani\\anaconda3\\lib\\site-packages (from importlib-resources; python_version < \"3.9\"->jaraco.text->jaraco.collections->cherrypy->pattern) (3.4.0)\n",
      "Collecting pydantic>=1.9.1\n",
      "  Using cached pydantic-1.10.7-py3-none-any.whl (157 kB)\n",
      "Collecting typing-extensions>=4.2.0\n",
      "  Using cached typing_extensions-4.5.0-py3-none-any.whl (27 kB)\n",
      "Building wheels for collected packages: mysqlclient\n",
      "  Building wheel for mysqlclient (setup.py): started\n",
      "  Building wheel for mysqlclient (setup.py): finished with status 'error'\n",
      "  Running setup.py clean for mysqlclient\n",
      "Failed to build mysqlclient\n"
     ]
    },
    {
     "name": "stderr",
     "output_type": "stream",
     "text": [
      "  ERROR: Command errored out with exit status 1:\n",
      "   command: 'C:\\Users\\Shivani\\anaconda3\\python.exe' -u -c 'import sys, setuptools, tokenize; sys.argv[0] = '\"'\"'C:\\\\Users\\\\Shivani\\\\AppData\\\\Local\\\\Temp\\\\pip-install-0jom851p\\\\mysqlclient\\\\setup.py'\"'\"'; __file__='\"'\"'C:\\\\Users\\\\Shivani\\\\AppData\\\\Local\\\\Temp\\\\pip-install-0jom851p\\\\mysqlclient\\\\setup.py'\"'\"';f=getattr(tokenize, '\"'\"'open'\"'\"', open)(__file__);code=f.read().replace('\"'\"'\\r\\n'\"'\"', '\"'\"'\\n'\"'\"');f.close();exec(compile(code, __file__, '\"'\"'exec'\"'\"'))' bdist_wheel -d 'C:\\Users\\Shivani\\AppData\\Local\\Temp\\pip-wheel-l8ufwqqg'\n",
      "       cwd: C:\\Users\\Shivani\\AppData\\Local\\Temp\\pip-install-0jom851p\\mysqlclient\\\n",
      "  Complete output (23 lines):\n",
      "  running bdist_wheel\n",
      "  running build\n",
      "  running build_py\n",
      "  creating build\n",
      "  creating build\\lib.win32-3.8\n",
      "  creating build\\lib.win32-3.8\\MySQLdb\n",
      "  copying MySQLdb\\__init__.py -> build\\lib.win32-3.8\\MySQLdb\n",
      "  copying MySQLdb\\_exceptions.py -> build\\lib.win32-3.8\\MySQLdb\n",
      "  copying MySQLdb\\connections.py -> build\\lib.win32-3.8\\MySQLdb\n",
      "  copying MySQLdb\\converters.py -> build\\lib.win32-3.8\\MySQLdb\n",
      "  copying MySQLdb\\cursors.py -> build\\lib.win32-3.8\\MySQLdb\n",
      "  copying MySQLdb\\release.py -> build\\lib.win32-3.8\\MySQLdb\n",
      "  copying MySQLdb\\times.py -> build\\lib.win32-3.8\\MySQLdb\n",
      "  creating build\\lib.win32-3.8\\MySQLdb\\constants\n",
      "  copying MySQLdb\\constants\\__init__.py -> build\\lib.win32-3.8\\MySQLdb\\constants\n",
      "  copying MySQLdb\\constants\\CLIENT.py -> build\\lib.win32-3.8\\MySQLdb\\constants\n",
      "  copying MySQLdb\\constants\\CR.py -> build\\lib.win32-3.8\\MySQLdb\\constants\n",
      "  copying MySQLdb\\constants\\ER.py -> build\\lib.win32-3.8\\MySQLdb\\constants\n",
      "  copying MySQLdb\\constants\\FIELD_TYPE.py -> build\\lib.win32-3.8\\MySQLdb\\constants\n",
      "  copying MySQLdb\\constants\\FLAG.py -> build\\lib.win32-3.8\\MySQLdb\\constants\n",
      "  running build_ext\n",
      "  building 'MySQLdb._mysql' extension\n",
      "  error: Microsoft Visual C++ 14.0 or greater is required. Get it with \"Microsoft C++ Build Tools\": https://visualstudio.microsoft.com/visual-cpp-build-tools/\n",
      "  ----------------------------------------\n",
      "  ERROR: Failed building wheel for mysqlclient\n",
      "    ERROR: Command errored out with exit status 1:\n",
      "     command: 'C:\\Users\\Shivani\\anaconda3\\python.exe' -u -c 'import sys, setuptools, tokenize; sys.argv[0] = '\"'\"'C:\\\\Users\\\\Shivani\\\\AppData\\\\Local\\\\Temp\\\\pip-install-0jom851p\\\\mysqlclient\\\\setup.py'\"'\"'; __file__='\"'\"'C:\\\\Users\\\\Shivani\\\\AppData\\\\Local\\\\Temp\\\\pip-install-0jom851p\\\\mysqlclient\\\\setup.py'\"'\"';f=getattr(tokenize, '\"'\"'open'\"'\"', open)(__file__);code=f.read().replace('\"'\"'\\r\\n'\"'\"', '\"'\"'\\n'\"'\"');f.close();exec(compile(code, __file__, '\"'\"'exec'\"'\"'))' install --record 'C:\\Users\\Shivani\\AppData\\Local\\Temp\\pip-record-u_3vnfpe\\install-record.txt' --single-version-externally-managed --compile --install-headers 'C:\\Users\\Shivani\\anaconda3\\Include\\mysqlclient'\n",
      "         cwd: C:\\Users\\Shivani\\AppData\\Local\\Temp\\pip-install-0jom851p\\mysqlclient\\\n",
      "    Complete output (23 lines):\n",
      "    running install\n",
      "    running build\n",
      "    running build_py\n",
      "    creating build\n",
      "    creating build\\lib.win32-3.8\n",
      "    creating build\\lib.win32-3.8\\MySQLdb\n",
      "    copying MySQLdb\\__init__.py -> build\\lib.win32-3.8\\MySQLdb\n",
      "    copying MySQLdb\\_exceptions.py -> build\\lib.win32-3.8\\MySQLdb\n",
      "    copying MySQLdb\\connections.py -> build\\lib.win32-3.8\\MySQLdb\n",
      "    copying MySQLdb\\converters.py -> build\\lib.win32-3.8\\MySQLdb\n",
      "    copying MySQLdb\\cursors.py -> build\\lib.win32-3.8\\MySQLdb\n",
      "    copying MySQLdb\\release.py -> build\\lib.win32-3.8\\MySQLdb\n",
      "    copying MySQLdb\\times.py -> build\\lib.win32-3.8\\MySQLdb\n",
      "    creating build\\lib.win32-3.8\\MySQLdb\\constants\n",
      "    copying MySQLdb\\constants\\__init__.py -> build\\lib.win32-3.8\\MySQLdb\\constants\n",
      "    copying MySQLdb\\constants\\CLIENT.py -> build\\lib.win32-3.8\\MySQLdb\\constants\n",
      "    copying MySQLdb\\constants\\CR.py -> build\\lib.win32-3.8\\MySQLdb\\constants\n",
      "    copying MySQLdb\\constants\\ER.py -> build\\lib.win32-3.8\\MySQLdb\\constants\n",
      "    copying MySQLdb\\constants\\FIELD_TYPE.py -> build\\lib.win32-3.8\\MySQLdb\\constants\n",
      "    copying MySQLdb\\constants\\FLAG.py -> build\\lib.win32-3.8\\MySQLdb\\constants\n",
      "    running build_ext\n",
      "    building 'MySQLdb._mysql' extension\n",
      "    error: Microsoft Visual C++ 14.0 or greater is required. Get it with \"Microsoft C++ Build Tools\": https://visualstudio.microsoft.com/visual-cpp-build-tools/\n",
      "    ----------------------------------------\n",
      "ERROR: Command errored out with exit status 1: 'C:\\Users\\Shivani\\anaconda3\\python.exe' -u -c 'import sys, setuptools, tokenize; sys.argv[0] = '\"'\"'C:\\\\Users\\\\Shivani\\\\AppData\\\\Local\\\\Temp\\\\pip-install-0jom851p\\\\mysqlclient\\\\setup.py'\"'\"'; __file__='\"'\"'C:\\\\Users\\\\Shivani\\\\AppData\\\\Local\\\\Temp\\\\pip-install-0jom851p\\\\mysqlclient\\\\setup.py'\"'\"';f=getattr(tokenize, '\"'\"'open'\"'\"', open)(__file__);code=f.read().replace('\"'\"'\\r\\n'\"'\"', '\"'\"'\\n'\"'\"');f.close();exec(compile(code, __file__, '\"'\"'exec'\"'\"'))' install --record 'C:\\Users\\Shivani\\AppData\\Local\\Temp\\pip-record-u_3vnfpe\\install-record.txt' --single-version-externally-managed --compile --install-headers 'C:\\Users\\Shivani\\anaconda3\\Include\\mysqlclient' Check the logs for full command output.\n"
     ]
    },
    {
     "name": "stdout",
     "output_type": "stream",
     "text": [
      "Installing collected packages: sgmllib3k, feedparser, charset-normalizer, cryptography, pdfminer.six, python-docx, importlib-resources, jaraco.functools, jaraco.context, autocommand, typing-extensions, pydantic, inflect, jaraco.text, jaraco.collections, tempora, portend, zc.lockfile, cheroot, cherrypy, mysqlclient, pattern\n",
      "  Attempting uninstall: cryptography\n",
      "    Found existing installation: cryptography 3.1\n",
      "    Uninstalling cryptography-3.1:\n",
      "      Successfully uninstalled cryptography-3.1\n",
      "  Attempting uninstall: typing-extensions\n",
      "    Found existing installation: typing-extensions 3.7.4.3\n",
      "    Uninstalling typing-extensions-3.7.4.3:\n",
      "      Successfully uninstalled typing-extensions-3.7.4.3\n",
      "    Running setup.py install for mysqlclient: started\n",
      "    Running setup.py install for mysqlclient: finished with status 'error'\n",
      "Collecting autocorrect\n",
      "  Downloading autocorrect-2.6.1.tar.gz (622 kB)\n",
      "Building wheels for collected packages: autocorrect\n",
      "  Building wheel for autocorrect (setup.py): started\n",
      "  Building wheel for autocorrect (setup.py): finished with status 'done'\n",
      "  Created wheel for autocorrect: filename=autocorrect-2.6.1-py3-none-any.whl size=622386 sha256=84cee23242418d41e607e0bc1353733eb25277c1b656192cf751436974fd4fac\n",
      "  Stored in directory: c:\\users\\shivani\\appdata\\local\\pip\\cache\\wheels\\72\\b8\\3b\\a90246d13090e85394a8a44b78c8abf577c0766f29d6543c75\n",
      "Successfully built autocorrect\n",
      "Installing collected packages: autocorrect\n",
      "Successfully installed autocorrect-2.6.1\n",
      "Requirement already satisfied: textblob in c:\\users\\shivani\\anaconda3\\lib\\site-packages (0.17.1)\n",
      "Requirement already satisfied: nltk>=3.1; python_version >= \"3\" in c:\\users\\shivani\\anaconda3\\lib\\site-packages (from textblob) (3.5)\n",
      "Requirement already satisfied: click in c:\\users\\shivani\\anaconda3\\lib\\site-packages (from nltk>=3.1; python_version >= \"3\"->textblob) (7.1.2)\n",
      "Requirement already satisfied: regex in c:\\users\\shivani\\anaconda3\\lib\\site-packages (from nltk>=3.1; python_version >= \"3\"->textblob) (2020.10.15)\n",
      "Requirement already satisfied: tqdm in c:\\users\\shivani\\anaconda3\\lib\\site-packages (from nltk>=3.1; python_version >= \"3\"->textblob) (4.50.2)\n",
      "Requirement already satisfied: joblib in c:\\users\\shivani\\anaconda3\\lib\\site-packages (from nltk>=3.1; python_version >= \"3\"->textblob) (0.17.0)\n",
      "Requirement already satisfied: textdistance in c:\\users\\shivani\\anaconda3\\lib\\site-packages (4.5.0)\n"
     ]
    }
   ],
   "source": [
    "!pip install pattern\n",
    "!pip install autocorrect\n",
    "!pip install textblob\n",
    "!pip install textdistance"
   ]
  },
  {
   "cell_type": "code",
   "execution_count": 4,
   "metadata": {
    "colab": {
     "base_uri": "https://localhost:8080/"
    },
    "id": "9SECnbx_MCDd",
    "outputId": "1e857e3c-bd74-46d8-d922-2ede1e2e39bb"
   },
   "outputs": [
    {
     "name": "stdout",
     "output_type": "stream",
     "text": [
      "enter the wordouto\n",
      "The corrected word for 'outo' is 'out' is:\n",
      "The suggested words are {'outon', 'outl', 'otto', 'out', 'puto', 'outa', 'ouzo', 'outto', 'oto', 'auto', 'outdo', 'outs', 'onto', 'youto', 'orto', 'outof'}:\n"
     ]
    }
   ],
   "source": [
    "from spellchecker import SpellChecker\n",
    "spell = SpellChecker()\n",
    "misspell_word = input(\"enter the word\")\n",
    "correct_word = spell.correction(misspell_word)\n",
    "print(f\"The corrected word for '{misspell_word}' is '{correct_word}' is:\")\n",
    "misspell_word = \"outo\"\n",
    "suggestions = spell.candidates(misspell_word)\n",
    "print(f\"The suggested words are {suggestions}:\")"
   ]
  },
  {
   "cell_type": "code",
   "execution_count": null,
   "metadata": {},
   "outputs": [],
   "source": []
  }
 ],
 "metadata": {
  "colab": {
   "provenance": []
  },
  "kernelspec": {
   "display_name": "Python 3",
   "language": "python",
   "name": "python3"
  },
  "language_info": {
   "codemirror_mode": {
    "name": "ipython",
    "version": 3
   },
   "file_extension": ".py",
   "mimetype": "text/x-python",
   "name": "python",
   "nbconvert_exporter": "python",
   "pygments_lexer": "ipython3",
   "version": "3.8.5"
  }
 },
 "nbformat": 4,
 "nbformat_minor": 1
}
